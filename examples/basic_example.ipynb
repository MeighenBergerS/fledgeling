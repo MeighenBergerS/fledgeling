{
 "cells": [
  {
   "cell_type": "code",
   "execution_count": null,
   "metadata": {},
   "outputs": [],
   "source": [
    "# basic_example.ipynb\n",
    "# Authors: Stephan Meighen-Berger\n",
    "# Shows how to interact with the fledgeling package"
   ]
  },
  {
   "cell_type": "code",
   "execution_count": null,
   "metadata": {},
   "outputs": [],
   "source": [
    "# basic imports\n",
    "import matplotlib.pyplot as plt\n",
    "import numpy as np"
   ]
  },
  {
   "cell_type": "code",
   "execution_count": null,
   "metadata": {},
   "outputs": [],
   "source": [
    "# sloth\n",
    "import sys\n",
    "sys.path.append(\"../\")\n",
    "from fledgeling import Fledgeling, config"
   ]
  },
  {
   "cell_type": "code",
   "execution_count": null,
   "metadata": {},
   "outputs": [],
   "source": [
    "# Setting everything up\n",
    "config['experimental data']['filepath'] =  \"/home/unimelb.edu.au/smeighenberg/snap/firefox/common/Downloads/icecube_10year_ps\"\n",
    "fledge = Fledgeling()\n",
    "fledge.close()"
   ]
  },
  {
   "cell_type": "code",
   "execution_count": null,
   "metadata": {},
   "outputs": [],
   "source": [
    "dec_range = [-5, 90]\n",
    "dec_range2 = [-90, -5]\n",
    "years = range(4, 10)\n",
    "ebins = np.arange(0, 10, 0.1)"
   ]
  },
  {
   "cell_type": "code",
   "execution_count": null,
   "metadata": {},
   "outputs": [],
   "source": [
    "# The Astrophysical flux from an IceCube measurement (best fit)\n",
    "def astro_flux(E):\n",
    "    return 1.66 * 1e-18 * (E / 1e5)**(-2.53)"
   ]
  },
  {
   "cell_type": "code",
   "execution_count": null,
   "metadata": {},
   "outputs": [],
   "source": [
    "def count_weighting(flux_dic, conversion_tables, cuts=[31, 101]):\n",
    "    \"\"\" weighting function for atmospheric events\n",
    "    \"\"\"\n",
    "    tmp_flux = flux_dic\n",
    "    tmp_flux[85] = tmp_flux[80]\n",
    "    tmp_flux[86] = tmp_flux[80]\n",
    "    tmp_flux[87] = tmp_flux[80]\n",
    "    tmp_flux[88] = tmp_flux[80]\n",
    "    tmp_flux[89] = tmp_flux[80]\n",
    "    tmp_flux[90] = tmp_flux[80]\n",
    "    # Example shower set only has every tenth value\n",
    "    weighted_counts = {}\n",
    "    # Assume up-going is produced by 0 degree fluxes\n",
    "    for i in range(91, 181):\n",
    "        tmp_flux[i] = tmp_flux[0]\n",
    "    for year in range(4, 10):\n",
    "        weighted_counts[year] = np.array([\n",
    "            np.sum(\n",
    "                (tmp_flux[i][\"numu\"] * tmp_flux[i][\"e width\"])[cuts[0]:cuts[1]][np.newaxis].T *\n",
    "                conversion_tables[year][i],\n",
    "                axis=0\n",
    "            ) / 100 for i in range(85, 180)\n",
    "        ])\n",
    "    return weighted_counts\n",
    "def count_weighting_astro(conversion_tables):\n",
    "    \"\"\" weighting function for astrophyisical events\n",
    "    \"\"\"\n",
    "    weighted_counts = {}\n",
    "    for year in range(4, 10):\n",
    "        weighted_counts[year] = np.array([\n",
    "            np.sum(\n",
    "                (astro_flux(np.sqrt(np.logspace(2, 9, 71)[1:]*np.logspace(2, 9, 71)[:-1])) * (np.logspace(2, 9, 71)[1:] - np.logspace(2, 9, 71)[:-1]))[np.newaxis].T *\n",
    "                conversion_tables[year][i],\n",
    "                axis=0\n",
    "            ) / 100 for i in range(85, 180)\n",
    "        ])\n",
    "    return weighted_counts"
   ]
  },
  {
   "cell_type": "code",
   "execution_count": null,
   "metadata": {},
   "outputs": [],
   "source": [
    "weighted_counts = count_weighting(fledge._atmos.cascade, fledge._dr.conversion_tables)\n",
    "weighted_counts_astro = count_weighting_astro(fledge._dr.conversion_tables)"
   ]
  },
  {
   "cell_type": "code",
   "execution_count": null,
   "metadata": {},
   "outputs": [],
   "source": [
    "# Atmos\n",
    "up_going = np.array([\n",
    "    np.trapz(weighted_counts[i], axis=0) * fledge._dr._uptime_tot_dic[i]\n",
    "    for i in weighted_counts.keys()\n",
    "])\n",
    "total_up = np.sum(up_going, axis=0)\n",
    "# Astro\n",
    "astro = np.array([\n",
    "    np.trapz(weighted_counts_astro[i], axis=0) * fledge._dr._uptime_tot_dic[i]\n",
    "    for i in weighted_counts_astro.keys()\n",
    "])\n",
    "astro_tot = np.sum(astro, axis=0)"
   ]
  },
  {
   "cell_type": "code",
   "execution_count": null,
   "metadata": {},
   "outputs": [],
   "source": [
    "tmp = fledge._dr._event_dic[fledge._dr._event_dic[\"dec\"].between(dec_range[0], dec_range[1])]\n",
    "total = np.zeros(len(ebins)-1)\n",
    "for i in range(4, 10):\n",
    "    yearly_events = tmp[tmp[\"year\"] == i]\n",
    "    counts, _ = np.histogram(yearly_events[\"E\"].values, ebins)\n",
    "    total += counts\n",
    "local_bins = np.linspace(2, 9, 71)\n",
    "# -------------------------------------------------------\n",
    "# Plotting\n",
    "fig = plt.figure(figsize=(4, 3), dpi=500)\n",
    "ax = fig.add_subplot(111)\n",
    "ax.errorbar((ebins[1:] + ebins[:-1]) / 2, total, fmt=\"o\", color=\"k\", yerr=np.max([np.sqrt(total), 0.2 * total], axis=0), markersize=1, label='Data')\n",
    "# Note that a high agreement for energies above 1 TeV can be reached by simply shifting the energy grid of the simulation by 100 GeV!\n",
    "ax.step((local_bins[1:] + local_bins[:-1]) / 2 + 0.1, total_up, color='r', where=\"mid\", label='Atmospherics')\n",
    "ax.step((local_bins[1:] + local_bins[:-1]) / 2 + 0.1, astro_tot, color='g', where=\"mid\", label='Astrophysical')\n",
    "ax.step((local_bins[1:] + local_bins[:-1]) / 2 + 0.1, (astro_tot + total_up), color='k', where=\"mid\", label='Total')\n",
    "ax.set_xlim(2.3, 6.)\n",
    "ax.set_ylim(1, 1e6)\n",
    "ax.set_xlabel(r\"$E_\\mathrm{reco}$ [log$_{10}$(E/GeV)]\")\n",
    "ax.set_ylabel(r\"Counts\")\n",
    "ax.yaxis.set_ticks_position('both')\n",
    "ax.xaxis.set_ticks_position('both')\n",
    "plt.legend(frameon=False)\n",
    "plt.yscale(\"log\")\n",
    "plt.tick_params(axis='both', which='both', direction='in')\n",
    "plt.tight_layout()\n",
    "fig.savefig('../pics/model_vs_data', dpi=500)"
   ]
  },
  {
   "cell_type": "code",
   "execution_count": null,
   "metadata": {},
   "outputs": [],
   "source": []
  }
 ],
 "metadata": {
  "kernelspec": {
   "display_name": "Python 3.10.6 ('fledgeling')",
   "language": "python",
   "name": "python3"
  },
  "language_info": {
   "codemirror_mode": {
    "name": "ipython",
    "version": 3
   },
   "file_extension": ".py",
   "mimetype": "text/x-python",
   "name": "python",
   "nbconvert_exporter": "python",
   "pygments_lexer": "ipython3",
   "version": "3.10.6"
  },
  "orig_nbformat": 4,
  "vscode": {
   "interpreter": {
    "hash": "2725dc10fc89289c24e22a9bdf647d1431d0d3fc8a3add2fc604a8a529ca5d80"
   }
  }
 },
 "nbformat": 4,
 "nbformat_minor": 2
}
